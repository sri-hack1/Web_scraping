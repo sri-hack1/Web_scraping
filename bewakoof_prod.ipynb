{
 "cells": [
  {
   "cell_type": "code",
   "execution_count": 29,
   "metadata": {},
   "outputs": [],
   "source": [
    "import requests\n",
    "from bs4 import BeautifulSoup\n",
    "import pandas as pd"
   ]
  },
  {
   "cell_type": "code",
   "execution_count": 30,
   "metadata": {},
   "outputs": [],
   "source": [
    "url = \"https://www.bewakoof.com/bestseller?sort=popular%20\"\n",
    "headers = {\n",
    "    \"User-Agent\":\"Mozilla/5.0 (Windows NT 10.0; Win64; x64) AppleWebKit/537.36 (KHTML, like Gecko) Chrome/128.0.0.0 Safari/537.36\"\n",
    "           }\n",
    "response = requests.get(url, headers = headers)"
   ]
  },
  {
   "cell_type": "code",
   "execution_count": 31,
   "metadata": {},
   "outputs": [],
   "source": [
    "soup = BeautifulSoup(response.text, 'html.parser')\n",
    "content = soup.find_all(\"div\", class_= \"productNaming bkf-ellipsis\")"
   ]
  },
  {
   "cell_type": "code",
   "execution_count": 32,
   "metadata": {},
   "outputs": [],
   "source": [
    "# Scraping product name\n",
    "product_raw = soup.find_all(\"h2\", class_ =\"clr-shade4 h3-p-name undefined false\")\n",
    "products = [product.text.strip() for product in product_raw]\n",
    "\n",
    "# Scraping price\n",
    "price_raw = soup.find_all(\"div\", class_= \"discountedPriceText clr-p-black false\")\n",
    "price = [price.text.strip() for price in price_raw]\n",
    "\n",
    "# Scraping image url\n",
    "image_raw = soup.find_all(\"img\", class_=\"productImgTag\")\n",
    "images = [image['src'] for image in image_raw]"
   ]
  },
  {
   "cell_type": "code",
   "execution_count": 33,
   "metadata": {},
   "outputs": [
    {
     "data": {
      "text/html": [
       "<div>\n",
       "<style scoped>\n",
       "    .dataframe tbody tr th:only-of-type {\n",
       "        vertical-align: middle;\n",
       "    }\n",
       "\n",
       "    .dataframe tbody tr th {\n",
       "        vertical-align: top;\n",
       "    }\n",
       "\n",
       "    .dataframe thead th {\n",
       "        text-align: right;\n",
       "    }\n",
       "</style>\n",
       "<table border=\"1\" class=\"dataframe\">\n",
       "  <thead>\n",
       "    <tr style=\"text-align: right;\">\n",
       "      <th></th>\n",
       "      <th>Product_name</th>\n",
       "      <th>Price</th>\n",
       "      <th>Image_link</th>\n",
       "    </tr>\n",
       "  </thead>\n",
       "  <tbody>\n",
       "    <tr>\n",
       "      <th>0</th>\n",
       "      <td>Men's Black Adam Graphic Printed T-shirt</td>\n",
       "      <td>₹499</td>\n",
       "      <td>https://images.bewakoof.com/t640/men-s-black-a...</td>\n",
       "    </tr>\n",
       "    <tr>\n",
       "      <th>1</th>\n",
       "      <td>Men's Black Warriors Graphic Printed Oversized...</td>\n",
       "      <td>₹499</td>\n",
       "      <td>https://images.bewakoof.com/t640/men-s-black-w...</td>\n",
       "    </tr>\n",
       "    <tr>\n",
       "      <th>2</th>\n",
       "      <td>Men's Black House Of The Dragon Iconic Graphic...</td>\n",
       "      <td>₹399</td>\n",
       "      <td>https://images.bewakoof.com/t640/men-s-black-h...</td>\n",
       "    </tr>\n",
       "    <tr>\n",
       "      <th>3</th>\n",
       "      <td>Women's Black Anti Hero Graphic Printed Oversi...</td>\n",
       "      <td>₹499</td>\n",
       "      <td>https://images.bewakoof.com/t640/women-s-black...</td>\n",
       "    </tr>\n",
       "    <tr>\n",
       "      <th>4</th>\n",
       "      <td>Women's Blue Moody Jerry Graphic Printed Overs...</td>\n",
       "      <td>₹499</td>\n",
       "      <td>https://images.bewakoof.com/t640/women-s-blue-...</td>\n",
       "    </tr>\n",
       "    <tr>\n",
       "      <th>5</th>\n",
       "      <td>Women's White &amp; Purple Camo Printed Oversized ...</td>\n",
       "      <td>₹439</td>\n",
       "      <td>https://images.bewakoof.com/t640/women-aop-ove...</td>\n",
       "    </tr>\n",
       "    <tr>\n",
       "      <th>6</th>\n",
       "      <td>Men's Green Wakanda Forever Graphic Printed Ov...</td>\n",
       "      <td>₹499</td>\n",
       "      <td>https://images.bewakoof.com/t640/men-s-green-w...</td>\n",
       "    </tr>\n",
       "    <tr>\n",
       "      <th>7</th>\n",
       "      <td>Men's White Wander Geometry T-shirt</td>\n",
       "      <td>₹499</td>\n",
       "      <td>https://images.bewakoof.com/t640/men-s-white-w...</td>\n",
       "    </tr>\n",
       "    <tr>\n",
       "      <th>8</th>\n",
       "      <td>Women's Green Weirdos Forever Graphic Printed ...</td>\n",
       "      <td>₹499</td>\n",
       "      <td>https://images.bewakoof.com/t640/women-s-green...</td>\n",
       "    </tr>\n",
       "    <tr>\n",
       "      <th>9</th>\n",
       "      <td>Men's Blue Rider Vroom Panda Graphic Printed T...</td>\n",
       "      <td>₹499</td>\n",
       "      <td>https://images.bewakoof.com/t640/men-s-blue-ri...</td>\n",
       "    </tr>\n",
       "  </tbody>\n",
       "</table>\n",
       "</div>"
      ],
      "text/plain": [
       "                                        Product_name Price  \\\n",
       "0           Men's Black Adam Graphic Printed T-shirt  ₹499   \n",
       "1  Men's Black Warriors Graphic Printed Oversized...  ₹499   \n",
       "2  Men's Black House Of The Dragon Iconic Graphic...  ₹399   \n",
       "3  Women's Black Anti Hero Graphic Printed Oversi...  ₹499   \n",
       "4  Women's Blue Moody Jerry Graphic Printed Overs...  ₹499   \n",
       "5  Women's White & Purple Camo Printed Oversized ...  ₹439   \n",
       "6  Men's Green Wakanda Forever Graphic Printed Ov...  ₹499   \n",
       "7                Men's White Wander Geometry T-shirt  ₹499   \n",
       "8  Women's Green Weirdos Forever Graphic Printed ...  ₹499   \n",
       "9  Men's Blue Rider Vroom Panda Graphic Printed T...  ₹499   \n",
       "\n",
       "                                          Image_link  \n",
       "0  https://images.bewakoof.com/t640/men-s-black-a...  \n",
       "1  https://images.bewakoof.com/t640/men-s-black-w...  \n",
       "2  https://images.bewakoof.com/t640/men-s-black-h...  \n",
       "3  https://images.bewakoof.com/t640/women-s-black...  \n",
       "4  https://images.bewakoof.com/t640/women-s-blue-...  \n",
       "5  https://images.bewakoof.com/t640/women-aop-ove...  \n",
       "6  https://images.bewakoof.com/t640/men-s-green-w...  \n",
       "7  https://images.bewakoof.com/t640/men-s-white-w...  \n",
       "8  https://images.bewakoof.com/t640/women-s-green...  \n",
       "9  https://images.bewakoof.com/t640/men-s-blue-ri...  "
      ]
     },
     "execution_count": 33,
     "metadata": {},
     "output_type": "execute_result"
    }
   ],
   "source": [
    "# Creating Dataframe\n",
    "new_df = pd.DataFrame({\n",
    "    \"Product_name\": products,\n",
    "    \"Price\": price,\n",
    "    \"Image_link\": images\n",
    "})\n",
    "new_df"
   ]
  },
  {
   "cell_type": "code",
   "execution_count": null,
   "metadata": {},
   "outputs": [],
   "source": []
  }
 ],
 "metadata": {
  "kernelspec": {
   "display_name": "Python 3",
   "language": "python",
   "name": "python3"
  },
  "language_info": {
   "codemirror_mode": {
    "name": "ipython",
    "version": 3
   },
   "file_extension": ".py",
   "mimetype": "text/x-python",
   "name": "python",
   "nbconvert_exporter": "python",
   "pygments_lexer": "ipython3",
   "version": "3.12.4"
  }
 },
 "nbformat": 4,
 "nbformat_minor": 2
}
